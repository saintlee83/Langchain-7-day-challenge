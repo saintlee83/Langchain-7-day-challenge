{
 "cells": [
  {
   "cell_type": "markdown",
   "id": "0e92a12f",
   "metadata": {},
   "source": [
    "# Chat Model"
   ]
  },
  {
   "cell_type": "code",
   "execution_count": null,
   "id": "1f350674",
   "metadata": {},
   "outputs": [],
   "source": [
    "from dotenv import load_dotenv\n",
    "import os\n",
    "\n",
    "load_dotenv()\n",
    "\n",
    "OPENAI_API_KEY=os.getenv(\"OPENAI_API_KEY\")"
   ]
  },
  {
   "cell_type": "code",
   "execution_count": 4,
   "id": "0ecba032",
   "metadata": {},
   "outputs": [
    {
     "name": "stdout",
     "output_type": "stream",
     "text": [
      "content='Eight.\\n\\nThere are eight recognized planets orbiting the Sun: Mercury, Venus, Earth, Mars, Jupiter, Saturn, Uranus, and Neptune. Pluto is classified as a dwarf planet. If you meant exoplanets (planets outside our Solar System), thousands have been discovered so far.' additional_kwargs={'refusal': None} response_metadata={'token_usage': {'completion_tokens': 580, 'prompt_tokens': 12, 'total_tokens': 592, 'completion_tokens_details': {'accepted_prediction_tokens': 0, 'audio_tokens': 0, 'reasoning_tokens': 512, 'rejected_prediction_tokens': 0}, 'prompt_tokens_details': {'audio_tokens': 0, 'cached_tokens': 0}}, 'model_name': 'gpt-5-nano-2025-08-07', 'system_fingerprint': None, 'id': 'chatcmpl-CJdYG02WDsrz6P67UqOcohZRiu3dR', 'service_tier': 'default', 'finish_reason': 'stop', 'logprobs': None} id='run--2e8cb038-7b0f-41ec-a35a-3b4e2cbe47f6-0' usage_metadata={'input_tokens': 12, 'output_tokens': 580, 'total_tokens': 592, 'input_token_details': {'audio': 0, 'cache_read': 0}, 'output_token_details': {'audio': 0, 'reasoning': 512}}\n"
     ]
    }
   ],
   "source": [
    "from langchain_openai import ChatOpenAI\n",
    "\n",
    "chat = ChatOpenAI(\n",
    "    model=\"gpt-5-nano\"\n",
    ")\n",
    "\n",
    "print(chat.invoke(\"How many planets are there?\"))\n"
   ]
  },
  {
   "cell_type": "markdown",
   "id": "35e0a003",
   "metadata": {},
   "source": [
    "# Message Schema"
   ]
  },
  {
   "cell_type": "code",
   "execution_count": 1,
   "id": "d046eac0",
   "metadata": {},
   "outputs": [],
   "source": [
    "from langchain_openai import ChatOpenAI\n",
    "\n",
    "chat = ChatOpenAI(\n",
    "    model=\"gpt-4o-mini\",\n",
    "    temperature=0.1\n",
    ")"
   ]
  },
  {
   "cell_type": "code",
   "execution_count": 3,
   "id": "3420a9f3",
   "metadata": {},
   "outputs": [
    {
     "data": {
      "text/plain": [
       "AIMessage(content='죄송하지만, {country_a}와 {country_b}의 거리를 제공할 수는 없습니다. 하지만 궁금한 점이 있으면 언제든지 물어보세요! 제 이름은 {name}입니다.', additional_kwargs={'refusal': None}, response_metadata={'token_usage': {'completion_tokens': 46, 'prompt_tokens': 59, 'total_tokens': 105, 'completion_tokens_details': {'accepted_prediction_tokens': 0, 'audio_tokens': 0, 'reasoning_tokens': 0, 'rejected_prediction_tokens': 0}, 'prompt_tokens_details': {'audio_tokens': 0, 'cached_tokens': 0}}, 'model_name': 'gpt-4o-mini-2024-07-18', 'system_fingerprint': 'fp_560af6e559', 'id': 'chatcmpl-CJdlWIVqXvRsBnOwn4HCz3nbOHLPv', 'service_tier': 'default', 'finish_reason': 'stop', 'logprobs': None}, id='run--0cc4eeec-5919-47a2-9805-b104aa99b763-0', usage_metadata={'input_tokens': 59, 'output_tokens': 46, 'total_tokens': 105, 'input_token_details': {'audio': 0, 'cache_read': 0}, 'output_token_details': {'audio': 0, 'reasoning': 0}})"
      ]
     },
     "execution_count": 3,
     "metadata": {},
     "output_type": "execute_result"
    }
   ],
   "source": [
    "from langchain.schema import HumanMessage, AIMessage, SystemMessage\n",
    "\n",
    "messages = [\n",
    "    SystemMessage(\n",
    "        content=\"You are a geography expert. And you only reply in {language}\"\n",
    "    ),\n",
    "    AIMessage(\n",
    "        content=\"안녕, 난 {name}야!\"\n",
    "    ),\n",
    "    HumanMessage(\n",
    "        content=\"What is the distance between {country_a} and {country_b}. Also, what is your name?\"\n",
    "    )\n",
    "]\n",
    "\n",
    "chat.predict_messages(messages=messages)"
   ]
  },
  {
   "cell_type": "markdown",
   "id": "4373fa87",
   "metadata": {},
   "source": [
    "# Message Template"
   ]
  },
  {
   "cell_type": "code",
   "execution_count": 8,
   "id": "926f25f9",
   "metadata": {},
   "outputs": [
    {
     "data": {
      "text/plain": [
       "AIMessage(content='The distance between Korea and Japan varies depending on the specific locations being measured. The shortest distance is between the Korean Peninsula and the Japanese island of Tsushima, which is approximately 50 kilometers (about 31 miles) across the Korea Strait. From the mainland of South Korea (such as Busan) to the nearest point in Japan (like Fukuoka), the distance is around 200 kilometers (about 124 miles).', additional_kwargs={'refusal': None}, response_metadata={'token_usage': {'completion_tokens': 85, 'prompt_tokens': 15, 'total_tokens': 100, 'completion_tokens_details': {'accepted_prediction_tokens': 0, 'audio_tokens': 0, 'reasoning_tokens': 0, 'rejected_prediction_tokens': 0}, 'prompt_tokens_details': {'audio_tokens': 0, 'cached_tokens': 0}}, 'model_name': 'gpt-4o-mini-2024-07-18', 'system_fingerprint': 'fp_560af6e559', 'id': 'chatcmpl-CJdr0QgxDGpjmTVaPGMkCo9BTSzVn', 'service_tier': 'default', 'finish_reason': 'stop', 'logprobs': None}, id='run--97cbb243-842c-49b9-9385-32ac82c00422-0', usage_metadata={'input_tokens': 15, 'output_tokens': 85, 'total_tokens': 100, 'input_token_details': {'audio': 0, 'cache_read': 0}, 'output_token_details': {'audio': 0, 'reasoning': 0}})"
      ]
     },
     "execution_count": 8,
     "metadata": {},
     "output_type": "execute_result"
    }
   ],
   "source": [
    "from langchain_openai import ChatOpenAI\n",
    "from langchain_core.prompts import PromptTemplate, ChatPromptTemplate\n",
    "\n",
    "chat = ChatOpenAI(\n",
    "    model=\"gpt-4o-mini\",\n",
    "    temperature=0.1\n",
    ")\n",
    "\n",
    "template = PromptTemplate.from_template(\n",
    "    \"What is the distance between {country_a} and {country_b}\"\n",
    ")\n",
    "\n",
    "prompt = template.format(country_a=\"korea\", country_b=\"Japan\")\n",
    "\n",
    "chat.invoke(prompt)"
   ]
  },
  {
   "cell_type": "code",
   "execution_count": 9,
   "id": "af555ba2",
   "metadata": {},
   "outputs": [
    {
     "data": {
      "text/plain": [
       "AIMessage(content='스페인과 이탈리아 사이의 거리는 약 1,500킬로미터입니다. 제 이름은 Jeseok Lee입니다.', additional_kwargs={'refusal': None}, response_metadata={'token_usage': {'completion_tokens': 31, 'prompt_tokens': 54, 'total_tokens': 85, 'completion_tokens_details': {'accepted_prediction_tokens': 0, 'audio_tokens': 0, 'reasoning_tokens': 0, 'rejected_prediction_tokens': 0}, 'prompt_tokens_details': {'audio_tokens': 0, 'cached_tokens': 0}}, 'model_name': 'gpt-4o-mini-2024-07-18', 'system_fingerprint': 'fp_560af6e559', 'id': 'chatcmpl-CJdyP92KyRJnveqrx3cA0kF8k9lc0', 'service_tier': 'default', 'finish_reason': 'stop', 'logprobs': None}, id='run--a86f4439-5d92-4821-9c06-19cbb7bc832b-0', usage_metadata={'input_tokens': 54, 'output_tokens': 31, 'total_tokens': 85, 'input_token_details': {'audio': 0, 'cache_read': 0}, 'output_token_details': {'audio': 0, 'reasoning': 0}})"
      ]
     },
     "execution_count": 9,
     "metadata": {},
     "output_type": "execute_result"
    }
   ],
   "source": [
    "template = ChatPromptTemplate.from_messages(\n",
    "    [\n",
    "        (\"system\", \"You are a geography expert. And you only reply in {langauge}\"),\n",
    "        (\"ai\", \"Ciao, mi chiamo {name}!\"),\n",
    "        (\n",
    "            \"human\",\n",
    "            \"What is the distance between {country_a} and {country_b}. Also, what is your name?\"\n",
    "        )\n",
    "    ]\n",
    ")\n",
    "\n",
    "prompt = template.format_messages(\n",
    "    langauge=\"Korean\",\n",
    "    name=\"Jeseok Lee\",\n",
    "    country_a=\"Spain\",\n",
    "    country_b=\"Italia\"\n",
    ")\n",
    "\n",
    "chat.invoke(prompt)"
   ]
  },
  {
   "cell_type": "markdown",
   "id": "203a2f0e",
   "metadata": {},
   "source": [
    "# Output Parser"
   ]
  },
  {
   "cell_type": "code",
   "execution_count": 10,
   "id": "f9d33edf",
   "metadata": {},
   "outputs": [],
   "source": [
    "from langchain_openai import ChatOpenAI\n",
    "from langchain_core.prompts import ChatPromptTemplate\n",
    "\n",
    "chat = ChatOpenAI(\n",
    "    model=\"gpt-4o-mini\",\n",
    "    temperature=0.1\n",
    ")"
   ]
  },
  {
   "cell_type": "code",
   "execution_count": 11,
   "id": "361d4448",
   "metadata": {},
   "outputs": [],
   "source": [
    "from langchain.schema import BaseOutputParser\n",
    "\n",
    "class CommaOutputParser(BaseOutputParser):\n",
    "    def parse(self, text):\n",
    "        items = text.strip().split(\",\")\n",
    "        return list(map(str.strip, items))"
   ]
  },
  {
   "cell_type": "code",
   "execution_count": null,
   "id": "270f9993",
   "metadata": {},
   "outputs": [
    {
     "data": {
      "text/plain": [
       "['a', ' b', ' c', ' d']"
      ]
     },
     "execution_count": 12,
     "metadata": {},
     "output_type": "execute_result"
    }
   ],
   "source": [
    "template = ChatPromptTemplate.from_messages(\n",
    "    [\n",
    "        (\n",
    "            \"system\", \n",
    "            \"You are a list generating machine. Everything you are asked will be answerd with a comma separated list of max {max_items} in lowercase. DO NOT reply anything else.\"\n",
    "        ),\n",
    "        (\"human\", \"{question}\")\n",
    "    ]\n",
    ")"
   ]
  },
  {
   "cell_type": "markdown",
   "id": "cdac8f6b",
   "metadata": {},
   "source": [
    "# Chaining Chains"
   ]
  },
  {
   "cell_type": "code",
   "execution_count": 3,
   "id": "cfdac14a",
   "metadata": {},
   "outputs": [],
   "source": [
    "from langchain_openai import ChatOpenAI\n",
    "from langchain_core.prompts import ChatPromptTemplate\n",
    "from langchain.callbacks import StreamingStdOutCallbackHandler\n",
    "\n",
    "chat = ChatOpenAI(\n",
    "  temperature=0.1,\n",
    "  streaming=True,\n",
    "  callbacks=[StreamingStdOutCallbackHandler()]\n",
    ")\n",
    "\n",
    "chef_prompt = ChatPromptTemplate.from_messages(\n",
    "    [\n",
    "        (\n",
    "            \"system\",\n",
    "            \"\",\n",
    "        ),\n",
    "        (\"human\", \"I want to cook {cuisine} food. \")\n",
    "    ]\n",
    "  )\n",
    "\n",
    "chef_chain = chef_prompt | chat"
   ]
  },
  {
   "cell_type": "code",
   "execution_count": 5,
   "id": "cd842fd7",
   "metadata": {},
   "outputs": [
    {
     "name": "stdout",
     "output_type": "stream",
     "text": [
      "That's great! Italian cuisine is known for its delicious flavors and variety of dishes. Here are a few classic Italian recipes you can try:\n",
      "\n",
      "1. Spaghetti Carbonara: A simple yet flavorful pasta dish made with spaghetti, eggs, pancetta, Parmesan cheese, and black pepper.\n",
      "\n",
      "2. Margherita Pizza: A classic pizza topped with tomato sauce, fresh mozzarella cheese, basil leaves, and a drizzle of olive oil.\n",
      "\n",
      "3. Risotto alla Milanese: A creamy and comforting risotto dish made with Arborio rice, saffron, Parmesan cheese, and butter.\n",
      "\n",
      "4. Chicken Parmesan: Breaded chicken cutlets topped with marinara sauce, mozzarella cheese, and Parmesan cheese, then baked until golden and bubbly.\n",
      "\n",
      "5. Tiramisu: A popular Italian dessert made with layers of coffee-soaked ladyfingers, mascarpone cheese, cocoa powder, and a touch of liquor.\n",
      "\n",
      "These are just a few ideas to get you started. Enjoy your Italian cooking adventure!For the Spaghetti Carbonara recipe, you can replace the pancetta with vegetarian bacon or smoked tofu. Vegetarian bacon can be pan-fried until crispy and then chopped into small pieces to mimic the texture of pancetta. Smoked tofu can also be pan-fried until golden and crispy, adding a smoky flavor to the dish.\n",
      "\n",
      "As for the Parmesan cheese in the Spaghetti Carbonara, you can use a vegetarian-friendly Parmesan cheese made without animal rennet. There are several brands available in stores that offer vegetarian versions of Parmesan cheese that taste very similar to the original.\n",
      "\n",
      "For the Margherita Pizza, you can use plant-based mozzarella cheese as a substitute for traditional mozzarella. There are many dairy-free cheese alternatives made from ingredients like cashews, soy, or coconut that melt and stretch like real cheese when baked.\n",
      "\n",
      "In the Risotto alla Milanese recipe, you can use vegetable broth instead of chicken broth to keep it vegetarian. The rest of the ingredients like Arborio rice, saffron, Parmesan cheese, and butter can remain the same.\n",
      "\n",
      "For the Chicken Parmesan recipe, you can replace the chicken cutlets with breaded and baked eggplant slices. Eggplant has a meaty texture when cooked and can be a delicious alternative to chicken in this dish. Simply bread the eggplant slices with breadcrumbs and Parmesan cheese before baking.\n",
      "\n",
      "Lastly, for the Tiramisu dessert, you can use eggless ladyfingers or sponge cake as a substitute for the traditional ladyfingers. You can also make a creamy filling using vegan cream cheese or coconut cream instead of mascarpone cheese. The rest of the ingredients like coffee, cocoa powder, and liquor can remain unchanged.\n",
      "\n",
      "Enjoy preparing these classic Italian dishes with a vegetarian twist!"
     ]
    },
    {
     "data": {
      "text/plain": [
       "AIMessage(content='For the Spaghetti Carbonara recipe, you can replace the pancetta with vegetarian bacon or smoked tofu. Vegetarian bacon can be pan-fried until crispy and then chopped into small pieces to mimic the texture of pancetta. Smoked tofu can also be pan-fried until golden and crispy, adding a smoky flavor to the dish.\\n\\nAs for the Parmesan cheese in the Spaghetti Carbonara, you can use a vegetarian-friendly Parmesan cheese made without animal rennet. There are several brands available in stores that offer vegetarian versions of Parmesan cheese that taste very similar to the original.\\n\\nFor the Margherita Pizza, you can use plant-based mozzarella cheese as a substitute for traditional mozzarella. There are many dairy-free cheese alternatives made from ingredients like cashews, soy, or coconut that melt and stretch like real cheese when baked.\\n\\nIn the Risotto alla Milanese recipe, you can use vegetable broth instead of chicken broth to keep it vegetarian. The rest of the ingredients like Arborio rice, saffron, Parmesan cheese, and butter can remain the same.\\n\\nFor the Chicken Parmesan recipe, you can replace the chicken cutlets with breaded and baked eggplant slices. Eggplant has a meaty texture when cooked and can be a delicious alternative to chicken in this dish. Simply bread the eggplant slices with breadcrumbs and Parmesan cheese before baking.\\n\\nLastly, for the Tiramisu dessert, you can use eggless ladyfingers or sponge cake as a substitute for the traditional ladyfingers. You can also make a creamy filling using vegan cream cheese or coconut cream instead of mascarpone cheese. The rest of the ingredients like coffee, cocoa powder, and liquor can remain unchanged.\\n\\nEnjoy preparing these classic Italian dishes with a vegetarian twist!', additional_kwargs={}, response_metadata={'finish_reason': 'stop', 'model_name': 'gpt-3.5-turbo-0125', 'service_tier': 'default'}, id='run--f9cfb88c-0b96-4074-9078-74215b63283d-0')"
      ]
     },
     "execution_count": 5,
     "metadata": {},
     "output_type": "execute_result"
    }
   ],
   "source": [
    "veg_chef_prompt = ChatPromptTemplate.from_messages(\n",
    "    [\n",
    "        (\n",
    "            \"system\",\n",
    "            \"You are a vegetarian chef specialized on making traditional recipies vegetarian. You find alternative ingredients and explain their preparation. You don't radically modify the recipe. If there is no alternative for a food just say you don't know how to replace it.\"\n",
    "        ),\n",
    "        (\"human\", \"{recipe}\")\n",
    "    ]\n",
    ")\n",
    "\n",
    "veg_chain = veg_chef_prompt | chat\n",
    "\n",
    "final_chian = chef_chain | veg_chain\n",
    "\n",
    "final_chian.invoke(\n",
    "  {\n",
    "      \"cuisine\": \"Italian\"  \n",
    "  }\n",
    ")"
   ]
  },
  {
   "cell_type": "code",
   "execution_count": null,
   "id": "597f9cec",
   "metadata": {},
   "outputs": [],
   "source": []
  }
 ],
 "metadata": {
  "kernelspec": {
   "display_name": "langchain-7-day-challenge (3.13.7)",
   "language": "python",
   "name": "python3"
  },
  "language_info": {
   "codemirror_mode": {
    "name": "ipython",
    "version": 3
   },
   "file_extension": ".py",
   "mimetype": "text/x-python",
   "name": "python",
   "nbconvert_exporter": "python",
   "pygments_lexer": "ipython3",
   "version": "3.13.7"
  }
 },
 "nbformat": 4,
 "nbformat_minor": 5
}
