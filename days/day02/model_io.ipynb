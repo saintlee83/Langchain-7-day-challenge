{
 "cells": [
  {
   "cell_type": "markdown",
   "id": "9e148a29",
   "metadata": {},
   "source": [
    "# Introduction\n",
    "\n",
    "Python의 Model I/O에 대해 학습함"
   ]
  },
  {
   "cell_type": "markdown",
   "id": "2b682320",
   "metadata": {},
   "source": [
    "## FewShotPromptTemplate"
   ]
  },
  {
   "cell_type": "code",
   "execution_count": 5,
   "id": "e560ecd1",
   "metadata": {},
   "outputs": [],
   "source": [
    "from langchain.chat_models import ChatOpenAI\n",
    "from langchain.prompts.few_shot import FewShotPromptTemplate\n",
    "from langchain.callbacks import StreamingStdOutCallbackHandler\n",
    "from langchain.prompts import PromptTemplate\n",
    "\n",
    "chat = ChatOpenAI(\n",
    "  model=\"gpt-4o-mini\",\n",
    "  temperature=0.1,\n",
    "  streaming=True,\n",
    "  callbacks=[\n",
    "    StreamingStdOutCallbackHandler()\n",
    "    ],\n",
    ")\n",
    "\n",
    "examples = [\n",
    "    {\n",
    "        \"question\": \"What do you know about France?\",\n",
    "        \"answer\": \"\"\"\n",
    "        Here is what I know:\n",
    "        Capital: Paris\n",
    "        Language: French\n",
    "        Food: Wine and Cheese\n",
    "        Currency: Euro\n",
    "        \"\"\",\n",
    "    },\n",
    "    {\n",
    "        \"question\": \"What do you know about Italy?\",\n",
    "        \"answer\": \"\"\"\n",
    "        I know this:\n",
    "        Capital: Rome\n",
    "        Language: Italian\n",
    "        Food: Pizza and Pasta\n",
    "        Currency: Euro\n",
    "        \"\"\",\n",
    "    },\n",
    "    {\n",
    "        \"question\": \"What do you know about Greece?\",\n",
    "        \"answer\": \"\"\"\n",
    "        I know this:\n",
    "        Capital: Athens\n",
    "        Language: Greek\n",
    "        Food: Souvlaki and Feta Cheese\n",
    "        Currency: Euro\n",
    "        \"\"\",\n",
    "    },\n",
    "]"
   ]
  },
  {
   "cell_type": "code",
   "execution_count": 10,
   "id": "abb98b7b",
   "metadata": {},
   "outputs": [
    {
     "data": {
      "text/plain": [
       "PromptTemplate(input_variables=['answer', 'question'], input_types={}, partial_variables={}, template='Human: {question}\\nAI:{answer}')"
      ]
     },
     "execution_count": 10,
     "metadata": {},
     "output_type": "execute_result"
    }
   ],
   "source": [
    "example_prompt = PromptTemplate.from_template(\"Human: {question}\\nAI:{answer}\")\n",
    "\n",
    "example_prompt"
   ]
  },
  {
   "cell_type": "code",
   "execution_count": null,
   "id": "346f75cb",
   "metadata": {},
   "outputs": [
    {
     "data": {
      "text/plain": [
       "FewShotPromptTemplate(input_variables=['country'], input_types={}, partial_variables={}, examples=[{'question': 'What do you know about France?', 'answer': '\\n        Here is what I know:\\n        Capital: Paris\\n        Language: French\\n        Food: Wine and Cheese\\n        Currency: Euro\\n        '}, {'question': 'What do you know about Italy?', 'answer': '\\n        I know this:\\n        Capital: Rome\\n        Language: Italian\\n        Food: Pizza and Pasta\\n        Currency: Euro\\n        '}, {'question': 'What do you know about Greece?', 'answer': '\\n        I know this:\\n        Capital: Athens\\n        Language: Greek\\n        Food: Souvlaki and Feta Cheese\\n        Currency: Euro\\n        '}], example_prompt=PromptTemplate(input_variables=['answer', 'question'], input_types={}, partial_variables={}, template='Human: {question}\\nAI:{answer}'), suffix='Human: What do you know about {country}?')"
      ]
     },
     "execution_count": 8,
     "metadata": {},
     "output_type": "execute_result"
    }
   ],
   "source": [
    "prompt = FewShotPromptTemplate(\n",
    "    examples=examples, \n",
    "    example_prompt=example_prompt,\n",
    "    suffix=\"Human: What do you know about {country}?\",\n",
    "    input_variables=[\"country\"],\n",
    ")\n",
    "\n",
    "prompt"
   ]
  },
  {
   "cell_type": "code",
   "execution_count": 11,
   "id": "9fd6a015",
   "metadata": {},
   "outputs": [
    {
     "name": "stdout",
     "output_type": "stream",
     "text": [
      "AI: I know this:\n",
      "        Capital: Madrid\n",
      "        Language: Spanish\n",
      "        Food: Paella and Tapas\n",
      "        Currency: Euro"
     ]
    },
    {
     "data": {
      "text/plain": [
       "AIMessage(content='AI: I know this:\\n        Capital: Madrid\\n        Language: Spanish\\n        Food: Paella and Tapas\\n        Currency: Euro', additional_kwargs={}, response_metadata={'finish_reason': 'stop'}, id='run--9f5460a5-4306-4dea-9036-f04da40a9286-0')"
      ]
     },
     "execution_count": 11,
     "metadata": {},
     "output_type": "execute_result"
    }
   ],
   "source": [
    "\n",
    "chain = prompt | chat\n",
    "\n",
    "chain.invoke({\"country\": \"Spain\"})"
   ]
  },
  {
   "cell_type": "markdown",
   "id": "980e9335",
   "metadata": {},
   "source": [
    "## FewShotChatMessagePromptTemplate"
   ]
  },
  {
   "cell_type": "code",
   "execution_count": 3,
   "id": "9bc27baf",
   "metadata": {},
   "outputs": [
    {
     "name": "stderr",
     "output_type": "stream",
     "text": [
      "/var/folders/42/x0tx5h514px6gvdl09jdn4rm0000gn/T/ipykernel_66381/3954819098.py:6: LangChainDeprecationWarning: The class `ChatOpenAI` was deprecated in LangChain 0.0.10 and will be removed in 1.0. An updated version of the class exists in the :class:`~langchain-openai package and should be used instead. To use it run `pip install -U :class:`~langchain-openai` and import as `from :class:`~langchain_openai import ChatOpenAI``.\n",
      "  chat = ChatOpenAI(\n"
     ]
    }
   ],
   "source": [
    "from langchain.chat_models import ChatOpenAI\n",
    "from langchain.prompts.few_shot import FewShotChatMessagePromptTemplate\n",
    "from langchain.callbacks import StreamingStdOutCallbackHandler\n",
    "from langchain.prompts import ChatPromptTemplate, ChatMessagePromptTemplate\n",
    "\n",
    "chat = ChatOpenAI(\n",
    "  model=\"gpt-4o-mini\",\n",
    "  temperature=0.1,\n",
    "  streaming=True,\n",
    "  callbacks=[\n",
    "    StreamingStdOutCallbackHandler()\n",
    "    ],\n",
    ")\n",
    "\n",
    "examples = [\n",
    "    {\n",
    "        \"country\": \"France\",\n",
    "        \"answer\": \"\"\"\n",
    "        Here is what I know:\n",
    "        Capital: Paris\n",
    "        Language: French\n",
    "        Food: Wine and Cheese\n",
    "        Currency: Euro\n",
    "        \"\"\",\n",
    "    },\n",
    "    {\n",
    "        \"country\": \"Italy\",\n",
    "        \"answer\": \"\"\"\n",
    "        I know this:\n",
    "        Capital: Rome\n",
    "        Language: Italian\n",
    "        Food: Pizza and Pasta\n",
    "        Currency: Euro\n",
    "        \"\"\",\n",
    "    },\n",
    "    {\n",
    "        \"country\": \"Greece\",\n",
    "        \"answer\": \"\"\"\n",
    "        I know this:\n",
    "        Capital: Athens\n",
    "        Language: Greek\n",
    "        Food: Souvlaki and Feta Cheese\n",
    "        Currency: Euro\n",
    "        \"\"\",\n",
    "    },\n",
    "]"
   ]
  },
  {
   "cell_type": "code",
   "execution_count": 4,
   "id": "c0c3c0e2",
   "metadata": {},
   "outputs": [],
   "source": [
    "example_prompt = ChatPromptTemplate.from_messages(\n",
    "  [\n",
    "    (\"human\", \"what do you know about {country}?\"),\n",
    "    (\"ai\", \"{answer}\"),\n",
    "  ]\n",
    ")\n",
    "\n",
    "example_prompt = FewShotChatMessagePromptTemplate(\n",
    "  example_prompt=example_prompt,\n",
    "  examples=examples,\n",
    ")\n",
    "\n",
    "final_prompt = ChatPromptTemplate.from_messages(\n",
    "  [\n",
    "    (\"system\", \"You are a geography expert, you give short answers.\"),\n",
    "    example_prompt,\n",
    "    (\"human\", \"What do you kjnow about {country}?\")\n",
    "  ]\n",
    ")"
   ]
  },
  {
   "cell_type": "code",
   "execution_count": 5,
   "id": "c3450341",
   "metadata": {},
   "outputs": [
    {
     "name": "stdout",
     "output_type": "stream",
     "text": [
      "\n",
      "        I know this:\n",
      "        Divided into two countries: North Korea (capital: Pyongyang) and South Korea (capital: Seoul).\n",
      "        Languages: Korean\n",
      "        Food: Kimchi and Bibimbap\n",
      "        Currency: North Korean Won (North) and South Korean Won (South)"
     ]
    },
    {
     "data": {
      "text/plain": [
       "AIMessage(content='\\n        I know this:\\n        Divided into two countries: North Korea (capital: Pyongyang) and South Korea (capital: Seoul).\\n        Languages: Korean\\n        Food: Kimchi and Bibimbap\\n        Currency: North Korean Won (North) and South Korean Won (South)', additional_kwargs={}, response_metadata={'finish_reason': 'stop'}, id='run--66ee9d8a-f93c-49a8-94b4-9374297914d5-0')"
      ]
     },
     "execution_count": 5,
     "metadata": {},
     "output_type": "execute_result"
    }
   ],
   "source": [
    "chain= final_prompt | chat\n",
    "\n",
    "chain.invoke(\n",
    "  {\n",
    "    \"country\" : \"Korea\"\n",
    "  }\n",
    ")"
   ]
  },
  {
   "cell_type": "markdown",
   "id": "1e913066",
   "metadata": {},
   "source": [
    "## LengthBasedExampleSelector"
   ]
  },
  {
   "cell_type": "code",
   "execution_count": 1,
   "id": "bcbe0604",
   "metadata": {},
   "outputs": [
    {
     "name": "stderr",
     "output_type": "stream",
     "text": [
      "/var/folders/42/x0tx5h514px6gvdl09jdn4rm0000gn/T/ipykernel_64256/3680939635.py:7: LangChainDeprecationWarning: The class `ChatOpenAI` was deprecated in LangChain 0.0.10 and will be removed in 1.0. An updated version of the class exists in the :class:`~langchain-openai package and should be used instead. To use it run `pip install -U :class:`~langchain-openai` and import as `from :class:`~langchain_openai import ChatOpenAI``.\n",
      "  chat = ChatOpenAI(\n"
     ]
    }
   ],
   "source": [
    "from langchain.chat_models import ChatOpenAI\n",
    "from langchain.prompts.few_shot import FewShotPromptTemplate\n",
    "from langchain.callbacks import StreamingStdOutCallbackHandler\n",
    "from langchain.prompts import PromptTemplate\n",
    "from langchain.prompts.example_selector import LengthBasedExampleSelector\n",
    "\n",
    "chat = ChatOpenAI(\n",
    "  model=\"gpt-4o-mini\",\n",
    "  temperature=0.1,\n",
    "  streaming=True,\n",
    "  callbacks=[\n",
    "    StreamingStdOutCallbackHandler()\n",
    "    ],\n",
    ")\n",
    "\n",
    "examples = [\n",
    "    {\n",
    "        \"question\": \"What do you know about France?\",\n",
    "        \"answer\": \"\"\"\n",
    "        Here is what I know:\n",
    "        Capital: Paris\n",
    "        Language: French\n",
    "        Food: Wine and Cheese\n",
    "        Currency: Euro\n",
    "        \"\"\",\n",
    "    },\n",
    "    {\n",
    "        \"question\": \"What do you know about Italy?\",\n",
    "        \"answer\": \"\"\"\n",
    "        I know this:\n",
    "        Capital: Rome\n",
    "        Language: Italian\n",
    "        Food: Pizza and Pasta\n",
    "        Currency: Euro\n",
    "        \"\"\",\n",
    "    },\n",
    "    {\n",
    "        \"question\": \"What do you know about Greece?\",\n",
    "        \"answer\": \"\"\"\n",
    "        I know this:\n",
    "        Capital: Athens\n",
    "        Language: Greek\n",
    "        Food: Souvlaki and Feta Cheese\n",
    "        Currency: Euro\n",
    "        \"\"\",\n",
    "    },\n",
    "]"
   ]
  },
  {
   "cell_type": "code",
   "execution_count": 4,
   "id": "b4714fd8",
   "metadata": {},
   "outputs": [],
   "source": [
    "example_prompt = PromptTemplate.from_template(\"Human: {question}\\nAI:{answer}\")\n",
    "\n",
    "example_selector = LengthBasedExampleSelector(\n",
    "  examples=examples,\n",
    "  example_prompt=example_prompt,\n",
    "  max_length=80,\n",
    ")"
   ]
  },
  {
   "cell_type": "code",
   "execution_count": 6,
   "id": "45ec6834",
   "metadata": {},
   "outputs": [
    {
     "data": {
      "text/plain": [
       "'Human: What do you know about France?\\nAI:\\n        Here is what I know:\\n        Capital: Paris\\n        Language: French\\n        Food: Wine and Cheese\\n        Currency: Euro\\n        \\n\\nHuman: What do you know about Brazil?'"
      ]
     },
     "execution_count": 6,
     "metadata": {},
     "output_type": "execute_result"
    }
   ],
   "source": [
    "prompt = FewShotPromptTemplate(\n",
    "    example_selector=example_selector,\n",
    "    example_prompt=example_prompt,\n",
    "    suffix=\"Human: What do you know about {country}?\",\n",
    "    input_variables=[\"country\"],\n",
    ")\n",
    "\n",
    "prompt.format(country=\"Brazil\")"
   ]
  },
  {
   "cell_type": "code",
   "execution_count": null,
   "id": "e82b8618",
   "metadata": {},
   "outputs": [
    {
     "name": "stdout",
     "output_type": "stream",
     "text": [
      "AI: I know this:\n",
      "        Capital: Madrid\n",
      "        Language: Spanish\n",
      "        Food: Paella and Tapas\n",
      "        Currency: Euro"
     ]
    },
    {
     "data": {
      "text/plain": [
       "AIMessage(content='AI: I know this:\\n        Capital: Madrid\\n        Language: Spanish\\n        Food: Paella and Tapas\\n        Currency: Euro', additional_kwargs={}, response_metadata={'finish_reason': 'stop'}, id='run--9f5460a5-4306-4dea-9036-f04da40a9286-0')"
      ]
     },
     "metadata": {},
     "output_type": "display_data"
    }
   ],
   "source": [
    "\n",
    "chain = prompt | chat\n",
    "\n",
    "chain.invoke({\"country\": \"Spain\"})"
   ]
  },
  {
   "cell_type": "markdown",
   "id": "a6e71bd8",
   "metadata": {},
   "source": [
    "## Random Example Selector"
   ]
  },
  {
   "cell_type": "code",
   "execution_count": 9,
   "id": "a53ac5d4",
   "metadata": {},
   "outputs": [],
   "source": [
    "from langchain.chat_models import ChatOpenAI\n",
    "from langchain.prompts import example_selector\n",
    "from langchain.prompts.few_shot import FewShotPromptTemplate\n",
    "from langchain.callbacks import StreamingStdOutCallbackHandler\n",
    "from langchain.prompts.prompt import PromptTemplate\n",
    "from langchain.prompts.example_selector.base import BaseExampleSelector\n",
    "\n",
    "chat = ChatOpenAI(\n",
    "  model=\"gpt-4o-mini\",\n",
    "  temperature=0.1,\n",
    "  streaming=True,\n",
    "  callbacks=[\n",
    "    StreamingStdOutCallbackHandler(),\n",
    "  ]\n",
    ")\n",
    "\n",
    "examples = [\n",
    "    {\n",
    "        \"question\": \"What do you know about France?\",\n",
    "        \"answer\": \"\"\"\n",
    "        Here is what I know:\n",
    "        Capital: Paris\n",
    "        Language: French\n",
    "        Food: Wine and Cheese\n",
    "        Currency: Euro\n",
    "        \"\"\",\n",
    "    },\n",
    "    {\n",
    "        \"question\": \"What do you know about Italy?\",\n",
    "        \"answer\": \"\"\"\n",
    "        I know this:\n",
    "        Capital: Rome\n",
    "        Language: Italian\n",
    "        Food: Pizza and Pasta\n",
    "        Currency: Euro\n",
    "        \"\"\",\n",
    "    },\n",
    "    {\n",
    "        \"question\": \"What do you know about Greece?\",\n",
    "        \"answer\": \"\"\"\n",
    "        I know this:\n",
    "        Capital: Athens\n",
    "        Language: Greek\n",
    "        Food: Souvlaki and Feta Cheese\n",
    "        Currency: Euro\n",
    "        \"\"\",\n",
    "    },\n",
    "]"
   ]
  },
  {
   "cell_type": "code",
   "execution_count": 10,
   "id": "112e3fda",
   "metadata": {},
   "outputs": [],
   "source": [
    "class RandomExampleSelector(BaseExampleSelector):\n",
    "  def __init__(self, examples):\n",
    "    self.examples = examples\n",
    "  \n",
    "  def add_example(self, example):\n",
    "    self.examples.append(example)\n",
    "\n",
    "  def select_examples(self, input_variables):\n",
    "    from random import choice\n",
    "\n",
    "    return [choice(self.examples)]"
   ]
  },
  {
   "cell_type": "code",
   "execution_count": 11,
   "id": "0986f30f",
   "metadata": {},
   "outputs": [],
   "source": [
    "example_prompt = PromptTemplate.from_template(\"Human: {question}\\nAI:{answer}\")\n",
    "\n",
    "example_selector = RandomExampleSelector(\n",
    "  examples=examples\n",
    ")"
   ]
  },
  {
   "cell_type": "markdown",
   "id": "c59753d7",
   "metadata": {},
   "source": []
  },
  {
   "cell_type": "code",
   "execution_count": 15,
   "id": "e58e8f78",
   "metadata": {},
   "outputs": [
    {
     "data": {
      "text/plain": [
       "'Human: What do you know about Italy?\\nAI:\\n        I know this:\\n        Capital: Rome\\n        Language: Italian\\n        Food: Pizza and Pasta\\n        Currency: Euro\\n        \\n\\nHuman: What do you know about Brazil?'"
      ]
     },
     "execution_count": 15,
     "metadata": {},
     "output_type": "execute_result"
    }
   ],
   "source": [
    "prompt = FewShotPromptTemplate(\n",
    "  example_prompt=example_prompt,\n",
    "  example_selector=example_selector,\n",
    "  suffix=\"Human: What do you know about {country}?\",\n",
    "  input_variables=[\"country\"],\n",
    ")\n",
    "\n",
    "prompt.format(country=\"Brazil\")"
   ]
  },
  {
   "cell_type": "markdown",
   "id": "29178358",
   "metadata": {},
   "source": [
    "## Serialization and Composition"
   ]
  },
  {
   "cell_type": "code",
   "execution_count": null,
   "id": "3a931580",
   "metadata": {},
   "outputs": [
    {
     "data": {
      "text/plain": [
       "'What is the capital of Germmany'"
      ]
     },
     "execution_count": 20,
     "metadata": {},
     "output_type": "execute_result"
    }
   ],
   "source": [
    "from langchain.chat_models import ChatOpenAI\n",
    "from langchain.callbacks import StreamingStdOutCallbackHandler\n",
    "from langchain.prompts import load_prompt\n",
    "\n",
    "# prompt = load_prompt(\"./prompt.json\")\n",
    "prompt = load_prompt(\"./prompt.yaml\")\n",
    "\n",
    "chat = ChatOpenAI(\n",
    "  temperature=0.1,\n",
    "  streaming=True,\n",
    "  callbacks=[\n",
    "    StreamingStdOutCallbackHandler(),\n",
    "  ],\n",
    ")\n",
    "\n",
    "prompt.format(country=\"Germmany\")"
   ]
  },
  {
   "cell_type": "code",
   "execution_count": 15,
   "id": "c9b9e7ed",
   "metadata": {},
   "outputs": [],
   "source": [
    "from langchain.chat_models import ChatOpenAI\n",
    "from langchain.callbacks import StreamingStdOutCallbackHandler\n",
    "from langchain.prompts import PromptTemplate\n",
    "from langchain.prompts.pipeline import PipelinePromptTemplate\n",
    "\n",
    "chat = ChatOpenAI(\n",
    "  model=\"gpt-4o-mini\",\n",
    "  temperature=0.1,\n",
    "  streaming=True,\n",
    "  callbacks=[\n",
    "    StreamingStdOutCallbackHandler(),\n",
    "  ]\n",
    ")"
   ]
  },
  {
   "cell_type": "code",
   "execution_count": 17,
   "id": "4d722474",
   "metadata": {},
   "outputs": [
    {
     "name": "stdout",
     "output_type": "stream",
     "text": [
      "Arrrr, matey! Me favorite grub be a hearty plate o' salted fish and hardtack, washed down with a tankard o' grog! A pirate's feast, it be! Arg arg!"
     ]
    },
    {
     "data": {
      "text/plain": [
       "AIMessage(content=\"Arrrr, matey! Me favorite grub be a hearty plate o' salted fish and hardtack, washed down with a tankard o' grog! A pirate's feast, it be! Arg arg!\", additional_kwargs={}, response_metadata={'finish_reason': 'stop'}, id='run--0517e49e-ee8b-4f3c-80f6-6f3f9ebf62e2-0')"
      ]
     },
     "execution_count": 17,
     "metadata": {},
     "output_type": "execute_result"
    }
   ],
   "source": [
    "intro = PromptTemplate.from_template(\n",
    "  \"\"\"\n",
    "  You are a role playing assistant.\n",
    "  And you are impersonating a {character}\n",
    "  \"\"\"\n",
    ")\n",
    "\n",
    "example = PromptTemplate.from_template(\n",
    "  \"\"\"\n",
    "  this is an example of how you talk:\n",
    "\n",
    "  Human: {example_question}\n",
    "  You: {example_answer}\n",
    "  \"\"\"\n",
    ")\n",
    "\n",
    "start= PromptTemplate.from_template(\n",
    "  \"\"\"\n",
    "  Strat now!\n",
    "\n",
    "  Human: {question}\n",
    "  You:\n",
    "  \"\"\"\n",
    ")\n",
    "\n",
    "final = PromptTemplate.from_template(\n",
    "  \"\"\"\n",
    "  {intro}\n",
    "\n",
    "  {example}\n",
    "\n",
    "  {start}\n",
    "  \"\"\"\n",
    ")\n",
    "\n",
    "prompts = [\n",
    "  (\"intro\", intro),\n",
    "  (\"example\", example),\n",
    "  (\"start\", start)\n",
    "]\n",
    "\n",
    "full_prompt = PipelinePromptTemplate(\n",
    "  final_prompt=final,\n",
    "  pipeline_prompts=prompts\n",
    ")\n",
    "\n",
    "chain = full_prompt | chat\n",
    "\n",
    "chain.invoke(\n",
    "    {\n",
    "        \"character\": \"Pirate\",\n",
    "        \"example_question\": \"What is your location?\",\n",
    "        \"example_answer\": \"Arrrrg! That is a secret!! Arg arg!!\",\n",
    "        \"question\": \"What is your fav food?\",\n",
    "    }\n",
    ")"
   ]
  },
  {
   "cell_type": "markdown",
   "id": "405bbf1e",
   "metadata": {},
   "source": [
    "## Caching"
   ]
  },
  {
   "cell_type": "code",
   "execution_count": null,
   "id": "4ce9bbe2",
   "metadata": {},
   "outputs": [
    {
     "name": "stderr",
     "output_type": "stream",
     "text": [
      "/var/folders/42/x0tx5h514px6gvdl09jdn4rm0000gn/T/ipykernel_70743/3048835680.py:9: LangChainDeprecationWarning: The class `ChatOpenAI` was deprecated in LangChain 0.0.10 and will be removed in 1.0. An updated version of the class exists in the :class:`~langchain-openai package and should be used instead. To use it run `pip install -U :class:`~langchain-openai` and import as `from :class:`~langchain_openai import ChatOpenAI``.\n",
      "  chat = ChatOpenAI(\n",
      "/var/folders/42/x0tx5h514px6gvdl09jdn4rm0000gn/T/ipykernel_70743/3048835680.py:18: LangChainDeprecationWarning: The method `BaseChatModel.predict` was deprecated in langchain-core 0.1.7 and will be removed in 1.0. Use :meth:`~invoke` instead.\n",
      "  chat.predict(\"How do you make italian pasta\")\n"
     ]
    },
    {
     "name": "stdout",
     "output_type": "stream",
     "text": [
      "\u001b[32;1m\u001b[1;3m[llm/start]\u001b[0m \u001b[1m[llm:ChatOpenAI] Entering LLM run with input:\n",
      "\u001b[0m{\n",
      "  \"prompts\": [\n",
      "    \"Human: How do you make italian pasta\"\n",
      "  ]\n",
      "}\n",
      "\u001b[36;1m\u001b[1;3m[llm/end]\u001b[0m \u001b[1m[llm:ChatOpenAI] [14.05s] Exiting LLM run with output:\n",
      "\u001b[0m{\n",
      "  \"generations\": [\n",
      "    [\n",
      "      {\n",
      "        \"text\": \"Making Italian pasta from scratch is a rewarding process! Here’s a simple recipe for fresh pasta:\\n\\n### Ingredients:\\n- 2 cups all-purpose flour (or \\\"00\\\" flour for a more authentic texture)\\n- 3 large eggs\\n- A pinch of salt\\n- A little water (if needed)\\n\\n### Instructions:\\n\\n#### 1. Prepare the Dough:\\n- **Make a Flour Well**: On a clean surface or in a large bowl, mound the flour and make a well in the center. Add a pinch of salt.\\n- **Add Eggs**: Crack the eggs into the well. Using a fork, beat the eggs gently, gradually incorporating the flour from the edges of the well.\\n- **Form the Dough**: As the mixture thickens, use your hands to bring it together into a dough. If the dough is too dry, add a little water, a teaspoon at a time.\\n\\n#### 2. Knead the Dough:\\n- **Knead**: Once the dough comes together, knead it for about 8-10 minutes until it is smooth and elastic. If it’s sticky, sprinkle a little more flour as needed.\\n- **Rest**: Wrap the dough in plastic wrap or cover it with a cloth and let it rest for at least 30 minutes at room temperature. This allows the gluten to relax.\\n\\n#### 3. Roll Out the Dough:\\n- **Divide**: Cut the dough into four pieces. Keep the pieces you’re not using covered to prevent them from drying out.\\n- **Flatten**: Take one piece and flatten it slightly with your hands or a rolling pin.\\n- **Roll**: Using a pasta machine or a rolling pin, roll the dough out to your desired thickness (usually about 1/16 inch for fettuccine or lasagna). If using a pasta machine, start with the widest setting and gradually move to thinner settings.\\n\\n#### 4. Cut the Pasta:\\n- **Shape**: Once rolled out, you can cut the pasta into your desired shape (tagliatelle, fettuccine, lasagna sheets, etc.). Use a sharp knife or a pasta cutter for even shapes.\\n- **Dust**: Dust the cut pasta with a little flour to prevent it from sticking together.\\n\\n#### 5. Cook the Pasta:\\n- **Boil Water**: Bring a large pot of salted water to a boil.\\n- **Cook**: Add the pasta and cook for 2-4 minutes, depending on the thickness. Fresh pasta cooks much faster than dried pasta.\\n- **Taste**: Check for doneness by tasting a piece. It should be al dente (firm to the bite).\\n\\n#### 6. Serve:\\n- **Drain**: Reserve a little pasta water if you plan to make a sauce. Drain the pasta and toss it with your favorite sauce, adding a bit of reserved pasta water if needed to help the sauce adhere.\\n\\n### Tips:\\n- Experiment with different flours, such as semolina or whole wheat, for different textures and flavors.\\n- You can add ingredients like spinach or beet puree to the dough for color and flavor.\\n- Fresh pasta can be stored in the refrigerator for a day or two or frozen for longer storage.\\n\\nEnjoy your homemade Italian pasta!\",\n",
      "        \"generation_info\": {\n",
      "          \"finish_reason\": \"stop\",\n",
      "          \"logprobs\": null\n",
      "        },\n",
      "        \"type\": \"ChatGeneration\",\n",
      "        \"message\": {\n",
      "          \"lc\": 1,\n",
      "          \"type\": \"constructor\",\n",
      "          \"id\": [\n",
      "            \"langchain\",\n",
      "            \"schema\",\n",
      "            \"messages\",\n",
      "            \"AIMessage\"\n",
      "          ],\n",
      "          \"kwargs\": {\n",
      "            \"content\": \"Making Italian pasta from scratch is a rewarding process! Here’s a simple recipe for fresh pasta:\\n\\n### Ingredients:\\n- 2 cups all-purpose flour (or \\\"00\\\" flour for a more authentic texture)\\n- 3 large eggs\\n- A pinch of salt\\n- A little water (if needed)\\n\\n### Instructions:\\n\\n#### 1. Prepare the Dough:\\n- **Make a Flour Well**: On a clean surface or in a large bowl, mound the flour and make a well in the center. Add a pinch of salt.\\n- **Add Eggs**: Crack the eggs into the well. Using a fork, beat the eggs gently, gradually incorporating the flour from the edges of the well.\\n- **Form the Dough**: As the mixture thickens, use your hands to bring it together into a dough. If the dough is too dry, add a little water, a teaspoon at a time.\\n\\n#### 2. Knead the Dough:\\n- **Knead**: Once the dough comes together, knead it for about 8-10 minutes until it is smooth and elastic. If it’s sticky, sprinkle a little more flour as needed.\\n- **Rest**: Wrap the dough in plastic wrap or cover it with a cloth and let it rest for at least 30 minutes at room temperature. This allows the gluten to relax.\\n\\n#### 3. Roll Out the Dough:\\n- **Divide**: Cut the dough into four pieces. Keep the pieces you’re not using covered to prevent them from drying out.\\n- **Flatten**: Take one piece and flatten it slightly with your hands or a rolling pin.\\n- **Roll**: Using a pasta machine or a rolling pin, roll the dough out to your desired thickness (usually about 1/16 inch for fettuccine or lasagna). If using a pasta machine, start with the widest setting and gradually move to thinner settings.\\n\\n#### 4. Cut the Pasta:\\n- **Shape**: Once rolled out, you can cut the pasta into your desired shape (tagliatelle, fettuccine, lasagna sheets, etc.). Use a sharp knife or a pasta cutter for even shapes.\\n- **Dust**: Dust the cut pasta with a little flour to prevent it from sticking together.\\n\\n#### 5. Cook the Pasta:\\n- **Boil Water**: Bring a large pot of salted water to a boil.\\n- **Cook**: Add the pasta and cook for 2-4 minutes, depending on the thickness. Fresh pasta cooks much faster than dried pasta.\\n- **Taste**: Check for doneness by tasting a piece. It should be al dente (firm to the bite).\\n\\n#### 6. Serve:\\n- **Drain**: Reserve a little pasta water if you plan to make a sauce. Drain the pasta and toss it with your favorite sauce, adding a bit of reserved pasta water if needed to help the sauce adhere.\\n\\n### Tips:\\n- Experiment with different flours, such as semolina or whole wheat, for different textures and flavors.\\n- You can add ingredients like spinach or beet puree to the dough for color and flavor.\\n- Fresh pasta can be stored in the refrigerator for a day or two or frozen for longer storage.\\n\\nEnjoy your homemade Italian pasta!\",\n",
      "            \"response_metadata\": {\n",
      "              \"token_usage\": {\n",
      "                \"completion_tokens\": 661,\n",
      "                \"prompt_tokens\": 13,\n",
      "                \"total_tokens\": 674,\n",
      "                \"completion_tokens_details\": {\n",
      "                  \"accepted_prediction_tokens\": 0,\n",
      "                  \"audio_tokens\": 0,\n",
      "                  \"reasoning_tokens\": 0,\n",
      "                  \"rejected_prediction_tokens\": 0\n",
      "                },\n",
      "                \"prompt_tokens_details\": {\n",
      "                  \"audio_tokens\": 0,\n",
      "                  \"cached_tokens\": 0\n",
      "                }\n",
      "              },\n",
      "              \"model_name\": \"gpt-4o-mini\",\n",
      "              \"system_fingerprint\": \"fp_560af6e559\",\n",
      "              \"finish_reason\": \"stop\",\n",
      "              \"logprobs\": null\n",
      "            },\n",
      "            \"type\": \"ai\",\n",
      "            \"id\": \"run--0cc41592-dc88-409e-aff3-44666decea75-0\",\n",
      "            \"tool_calls\": [],\n",
      "            \"invalid_tool_calls\": []\n",
      "          }\n",
      "        }\n",
      "      }\n",
      "    ]\n",
      "  ],\n",
      "  \"llm_output\": {\n",
      "    \"token_usage\": {\n",
      "      \"completion_tokens\": 661,\n",
      "      \"prompt_tokens\": 13,\n",
      "      \"total_tokens\": 674,\n",
      "      \"completion_tokens_details\": {\n",
      "        \"accepted_prediction_tokens\": 0,\n",
      "        \"audio_tokens\": 0,\n",
      "        \"reasoning_tokens\": 0,\n",
      "        \"rejected_prediction_tokens\": 0\n",
      "      },\n",
      "      \"prompt_tokens_details\": {\n",
      "        \"audio_tokens\": 0,\n",
      "        \"cached_tokens\": 0\n",
      "      }\n",
      "    },\n",
      "    \"model_name\": \"gpt-4o-mini\",\n",
      "    \"system_fingerprint\": \"fp_560af6e559\"\n",
      "  },\n",
      "  \"run\": null,\n",
      "  \"type\": \"LLMResult\"\n",
      "}\n"
     ]
    },
    {
     "data": {
      "text/plain": [
       "'Making Italian pasta from scratch is a rewarding process! Here’s a simple recipe for fresh pasta:\\n\\n### Ingredients:\\n- 2 cups all-purpose flour (or \"00\" flour for a more authentic texture)\\n- 3 large eggs\\n- A pinch of salt\\n- A little water (if needed)\\n\\n### Instructions:\\n\\n#### 1. Prepare the Dough:\\n- **Make a Flour Well**: On a clean surface or in a large bowl, mound the flour and make a well in the center. Add a pinch of salt.\\n- **Add Eggs**: Crack the eggs into the well. Using a fork, beat the eggs gently, gradually incorporating the flour from the edges of the well.\\n- **Form the Dough**: As the mixture thickens, use your hands to bring it together into a dough. If the dough is too dry, add a little water, a teaspoon at a time.\\n\\n#### 2. Knead the Dough:\\n- **Knead**: Once the dough comes together, knead it for about 8-10 minutes until it is smooth and elastic. If it’s sticky, sprinkle a little more flour as needed.\\n- **Rest**: Wrap the dough in plastic wrap or cover it with a cloth and let it rest for at least 30 minutes at room temperature. This allows the gluten to relax.\\n\\n#### 3. Roll Out the Dough:\\n- **Divide**: Cut the dough into four pieces. Keep the pieces you’re not using covered to prevent them from drying out.\\n- **Flatten**: Take one piece and flatten it slightly with your hands or a rolling pin.\\n- **Roll**: Using a pasta machine or a rolling pin, roll the dough out to your desired thickness (usually about 1/16 inch for fettuccine or lasagna). If using a pasta machine, start with the widest setting and gradually move to thinner settings.\\n\\n#### 4. Cut the Pasta:\\n- **Shape**: Once rolled out, you can cut the pasta into your desired shape (tagliatelle, fettuccine, lasagna sheets, etc.). Use a sharp knife or a pasta cutter for even shapes.\\n- **Dust**: Dust the cut pasta with a little flour to prevent it from sticking together.\\n\\n#### 5. Cook the Pasta:\\n- **Boil Water**: Bring a large pot of salted water to a boil.\\n- **Cook**: Add the pasta and cook for 2-4 minutes, depending on the thickness. Fresh pasta cooks much faster than dried pasta.\\n- **Taste**: Check for doneness by tasting a piece. It should be al dente (firm to the bite).\\n\\n#### 6. Serve:\\n- **Drain**: Reserve a little pasta water if you plan to make a sauce. Drain the pasta and toss it with your favorite sauce, adding a bit of reserved pasta water if needed to help the sauce adhere.\\n\\n### Tips:\\n- Experiment with different flours, such as semolina or whole wheat, for different textures and flavors.\\n- You can add ingredients like spinach or beet puree to the dough for color and flavor.\\n- Fresh pasta can be stored in the refrigerator for a day or two or frozen for longer storage.\\n\\nEnjoy your homemade Italian pasta!'"
      ]
     },
     "execution_count": 1,
     "metadata": {},
     "output_type": "execute_result"
    }
   ],
   "source": [
    "from langchain.chat_models import ChatOpenAI\n",
    "from langchain.callbacks import StreamingStdOutCallbackHandler\n",
    "from langchain.globals import set_llm_cache, set_debug\n",
    "from langchain.cache import InMemoryCache, SQLiteCache\n",
    "\n",
    "# set_llm_cache(InMemoryCache())\n",
    "set_llm_cache(SQLiteCache(\"cache.db\"))\n",
    "set_debug(True)\n",
    "\n",
    "chat = ChatOpenAI(\n",
    "  model=\"gpt-4o-mini\",\n",
    "  temperature=0.1,\n",
    "  # streaming=True,\n",
    "  # callbacks=[\n",
    "  #   StreamingStdOutCallbackHandler(),\n",
    "  # ]\n",
    ")\n",
    "\n",
    "chat.predict(\"How do you make italian pasta\")"
   ]
  },
  {
   "cell_type": "code",
   "execution_count": null,
   "id": "37df07f6",
   "metadata": {},
   "outputs": [
    {
     "name": "stderr",
     "output_type": "stream",
     "text": [
      "/var/folders/42/x0tx5h514px6gvdl09jdn4rm0000gn/T/ipykernel_71179/3587820135.py:12: LangChainDeprecationWarning: The method `BaseChatModel.predict` was deprecated in langchain-core 0.1.7 and will be removed in 1.0. Use :meth:`~invoke` instead.\n",
      "  chat.predict(\"How do you make italian pasta\")\n"
     ]
    },
    {
     "data": {
      "text/plain": [
       "'Making Italian pasta from scratch is a rewarding process! Here’s a simple recipe for fresh pasta:\\n\\n### Ingredients:\\n- 2 cups all-purpose flour (or \"00\" flour for a more authentic texture)\\n- 3 large eggs\\n- A pinch of salt\\n- A little water (if needed)\\n\\n### Instructions:\\n\\n1. **Prepare the Dough:**\\n   - On a clean surface or in a large bowl, make a mound with the flour and create a well in the center.\\n   - Add the eggs and a pinch of salt into the well.\\n   - Using a fork, beat the eggs gently, gradually incorporating the flour from the edges of the well until the mixture is too stiff to mix with a fork.\\n\\n2. **Knead the Dough:**\\n   - Once the dough starts to come together, use your hands to knead it. Knead for about 8-10 minutes until the dough is smooth and elastic. If the dough is too dry, add a little water; if it’s too sticky, sprinkle a bit more flour.\\n   - Wrap the dough in plastic wrap or cover it with a cloth and let it rest for at least 30 minutes at room temperature. This allows the gluten to relax.\\n\\n3. **Roll Out the Dough:**\\n   - After resting, divide the dough into smaller portions to make it easier to roll out.\\n   - Using a rolling pin or a pasta machine, roll out each portion of dough to your desired thickness. If using a pasta machine, start with the widest setting and gradually move to thinner settings.\\n\\n4. **Cut the Pasta:**\\n   - Once rolled out, you can cut the pasta into your desired shape: tagliatelle, fettuccine, lasagna sheets, etc. Use a sharp knife or a pasta cutter for even shapes.\\n   - Dust the cut pasta with a little flour to prevent it from sticking together.\\n\\n5. **Cook the Pasta:**\\n   - Bring a large pot of salted water to a boil. Add the fresh pasta and cook for 2-4 minutes, depending on the thickness. Fresh pasta cooks much faster than dried pasta.\\n   - Taste a piece to check for doneness, then drain and toss with your favorite sauce.\\n\\n### Tips:\\n- Fresh pasta pairs well with simple sauces like olive oil and garlic, marinara, or a light cream sauce.\\n- You can also experiment with adding ingredients to the dough, such as spinach or beet puree, for colored pasta.\\n\\nEnjoy your homemade Italian pasta!'"
      ]
     },
     "execution_count": 3,
     "metadata": {},
     "output_type": "execute_result"
    }
   ],
   "source": [
    "chat.predict(\"How do you make italian pasta\")"
   ]
  },
  {
   "cell_type": "markdown",
   "id": "122aec95",
   "metadata": {},
   "source": [
    "## Serialization"
   ]
  },
  {
   "cell_type": "code",
   "execution_count": null,
   "id": "8c10f49c",
   "metadata": {},
   "outputs": [
    {
     "name": "stdout",
     "output_type": "stream",
     "text": [
      "\u001b[32;1m\u001b[1;3m[llm/start]\u001b[0m \u001b[1m[llm:ChatOpenAI] Entering LLM run with input:\n",
      "\u001b[0m{\n",
      "  \"prompts\": [\n",
      "    \"Human: What is the recipe for soju\"\n",
      "  ]\n",
      "}\n",
      "\u001b[36;1m\u001b[1;3m[llm/end]\u001b[0m \u001b[1m[llm:ChatOpenAI] [9.04s] Exiting LLM run with output:\n",
      "\u001b[0m{\n",
      "  \"generations\": [\n",
      "    [\n",
      "      {\n",
      "        \"text\": \"Soju is a traditional Korean distilled spirit, typically made from grains or starches. The exact recipe can vary, but here’s a basic overview of how soju is traditionally made:\\n\\n### Ingredients:\\n1. **Base Ingredient**: \\n   - Traditionally, soju is made from grains like rice, barley, or wheat. Some modern versions use sweet potatoes or tapioca.\\n   \\n2. **Water**: \\n   - Clean, filtered water is essential for the distillation process.\\n\\n3. **Yeast**: \\n   - Yeast is used for fermentation, converting sugars into alcohol.\\n\\n4. **Koji (optional)**: \\n   - Koji is a mold (Aspergillus oryzae) that helps in breaking down starches into sugars, which can be fermented.\\n\\n### Basic Steps to Make Soju:\\n\\n1. **Preparation of Ingredients**:\\n   - If using grains, they should be cooked and then cooled. If using sweet potatoes, they should be steamed or boiled until soft.\\n\\n2. **Fermentation**:\\n   - Mix the cooked grains or starches with water and add koji (if using) and yeast. Allow the mixture to ferment in a warm place for several days to a week. This process converts the starches into sugars and then into alcohol.\\n\\n3. **Distillation**:\\n   - After fermentation, the mixture is distilled to separate the alcohol from the solids. This is typically done using a pot still or a column still. The distillation process may be repeated to increase the alcohol content and purity.\\n\\n4. **Dilution**:\\n   - The distilled spirit is usually too strong for consumption, so it is diluted with water to achieve the desired alcohol content, typically around 16-25% ABV.\\n\\n5. **Aging (optional)**:\\n   - Some soju is aged in barrels or tanks to develop flavor, but many types are consumed fresh.\\n\\n6. **Bottling**:\\n   - Once the desired flavor and alcohol content are achieved, the soju is filtered and bottled.\\n\\n### Note:\\nMaking soju at home can be complex and may require specific equipment and knowledge of fermentation and distillation processes. Additionally, distilling alcohol at home may be illegal in some areas, so it's important to check local laws and regulations before attempting to make soju or any distilled spirit.\\n\\nIf you're looking for a simpler way to enjoy soju, it is widely available in liquor stores and is often enjoyed straight, on the rocks, or in cocktails.\",\n",
      "        \"generation_info\": {\n",
      "          \"finish_reason\": \"stop\",\n",
      "          \"logprobs\": null\n",
      "        },\n",
      "        \"type\": \"ChatGeneration\",\n",
      "        \"message\": {\n",
      "          \"lc\": 1,\n",
      "          \"type\": \"constructor\",\n",
      "          \"id\": [\n",
      "            \"langchain\",\n",
      "            \"schema\",\n",
      "            \"messages\",\n",
      "            \"AIMessage\"\n",
      "          ],\n",
      "          \"kwargs\": {\n",
      "            \"content\": \"Soju is a traditional Korean distilled spirit, typically made from grains or starches. The exact recipe can vary, but here’s a basic overview of how soju is traditionally made:\\n\\n### Ingredients:\\n1. **Base Ingredient**: \\n   - Traditionally, soju is made from grains like rice, barley, or wheat. Some modern versions use sweet potatoes or tapioca.\\n   \\n2. **Water**: \\n   - Clean, filtered water is essential for the distillation process.\\n\\n3. **Yeast**: \\n   - Yeast is used for fermentation, converting sugars into alcohol.\\n\\n4. **Koji (optional)**: \\n   - Koji is a mold (Aspergillus oryzae) that helps in breaking down starches into sugars, which can be fermented.\\n\\n### Basic Steps to Make Soju:\\n\\n1. **Preparation of Ingredients**:\\n   - If using grains, they should be cooked and then cooled. If using sweet potatoes, they should be steamed or boiled until soft.\\n\\n2. **Fermentation**:\\n   - Mix the cooked grains or starches with water and add koji (if using) and yeast. Allow the mixture to ferment in a warm place for several days to a week. This process converts the starches into sugars and then into alcohol.\\n\\n3. **Distillation**:\\n   - After fermentation, the mixture is distilled to separate the alcohol from the solids. This is typically done using a pot still or a column still. The distillation process may be repeated to increase the alcohol content and purity.\\n\\n4. **Dilution**:\\n   - The distilled spirit is usually too strong for consumption, so it is diluted with water to achieve the desired alcohol content, typically around 16-25% ABV.\\n\\n5. **Aging (optional)**:\\n   - Some soju is aged in barrels or tanks to develop flavor, but many types are consumed fresh.\\n\\n6. **Bottling**:\\n   - Once the desired flavor and alcohol content are achieved, the soju is filtered and bottled.\\n\\n### Note:\\nMaking soju at home can be complex and may require specific equipment and knowledge of fermentation and distillation processes. Additionally, distilling alcohol at home may be illegal in some areas, so it's important to check local laws and regulations before attempting to make soju or any distilled spirit.\\n\\nIf you're looking for a simpler way to enjoy soju, it is widely available in liquor stores and is often enjoyed straight, on the rocks, or in cocktails.\",\n",
      "            \"response_metadata\": {\n",
      "              \"token_usage\": {\n",
      "                \"completion_tokens\": 508,\n",
      "                \"prompt_tokens\": 14,\n",
      "                \"total_tokens\": 522,\n",
      "                \"completion_tokens_details\": {\n",
      "                  \"accepted_prediction_tokens\": 0,\n",
      "                  \"audio_tokens\": 0,\n",
      "                  \"reasoning_tokens\": 0,\n",
      "                  \"rejected_prediction_tokens\": 0\n",
      "                },\n",
      "                \"prompt_tokens_details\": {\n",
      "                  \"audio_tokens\": 0,\n",
      "                  \"cached_tokens\": 0\n",
      "                }\n",
      "              },\n",
      "              \"model_name\": \"gpt-4o-mini\",\n",
      "              \"system_fingerprint\": \"fp_560af6e559\",\n",
      "              \"finish_reason\": \"stop\",\n",
      "              \"logprobs\": null\n",
      "            },\n",
      "            \"type\": \"ai\",\n",
      "            \"id\": \"run--25bab15f-3b2f-4c4f-8058-c1becdb52e06-0\",\n",
      "            \"tool_calls\": [],\n",
      "            \"invalid_tool_calls\": []\n",
      "          }\n",
      "        }\n",
      "      }\n",
      "    ]\n",
      "  ],\n",
      "  \"llm_output\": {\n",
      "    \"token_usage\": {\n",
      "      \"completion_tokens\": 508,\n",
      "      \"prompt_tokens\": 14,\n",
      "      \"total_tokens\": 522,\n",
      "      \"completion_tokens_details\": {\n",
      "        \"accepted_prediction_tokens\": 0,\n",
      "        \"audio_tokens\": 0,\n",
      "        \"reasoning_tokens\": 0,\n",
      "        \"rejected_prediction_tokens\": 0\n",
      "      },\n",
      "      \"prompt_tokens_details\": {\n",
      "        \"audio_tokens\": 0,\n",
      "        \"cached_tokens\": 0\n",
      "      }\n",
      "    },\n",
      "    \"model_name\": \"gpt-4o-mini\",\n",
      "    \"system_fingerprint\": \"fp_560af6e559\"\n",
      "  },\n",
      "  \"run\": null,\n",
      "  \"type\": \"LLMResult\"\n",
      "}\n",
      "\u001b[32;1m\u001b[1;3m[llm/start]\u001b[0m \u001b[1m[llm:ChatOpenAI] Entering LLM run with input:\n",
      "\u001b[0m{\n",
      "  \"prompts\": [\n",
      "    \"Human: What is the recipe for bread\"\n",
      "  ]\n",
      "}\n",
      "\u001b[36;1m\u001b[1;3m[llm/end]\u001b[0m \u001b[1m[llm:ChatOpenAI] [9.72s] Exiting LLM run with output:\n",
      "\u001b[0m{\n",
      "  \"generations\": [\n",
      "    [\n",
      "      {\n",
      "        \"text\": \"Here's a simple recipe for making basic homemade bread:\\n\\n### Ingredients:\\n- 4 cups all-purpose flour (plus extra for dusting)\\n- 2 teaspoons salt\\n- 2 teaspoons sugar\\n- 2 1/4 teaspoons (1 packet) active dry yeast\\n- 1 1/2 cups warm water (about 110°F or 43°C)\\n- 2 tablespoons olive oil (optional)\\n\\n### Instructions:\\n\\n1. **Activate the Yeast:**\\n   - In a small bowl, combine the warm water, sugar, and yeast. Stir gently and let it sit for about 5-10 minutes until it becomes frothy.\\n\\n2. **Mix Dry Ingredients:**\\n   - In a large mixing bowl, combine the flour and salt. Mix well.\\n\\n3. **Combine Wet and Dry Ingredients:**\\n   - Once the yeast is activated, add it to the flour mixture along with the olive oil (if using). Stir until a dough begins to form.\\n\\n4. **Knead the Dough:**\\n   - Transfer the dough to a floured surface and knead for about 8-10 minutes until it becomes smooth and elastic. You can add a little more flour if the dough is too sticky.\\n\\n5. **First Rise:**\\n   - Place the kneaded dough in a lightly greased bowl, cover it with a clean kitchen towel or plastic wrap, and let it rise in a warm place for about 1-2 hours, or until it has doubled in size.\\n\\n6. **Shape the Dough:**\\n   - Once the dough has risen, punch it down to release the air. Transfer it to a floured surface and shape it into a loaf or divide it into smaller portions for rolls.\\n\\n7. **Second Rise:**\\n   - Place the shaped dough into a greased loaf pan or on a baking sheet. Cover it again and let it rise for another 30-60 minutes, or until it has doubled in size.\\n\\n8. **Preheat the Oven:**\\n   - Preheat your oven to 375°F (190°C).\\n\\n9. **Bake the Bread:**\\n   - Bake the bread in the preheated oven for about 25-30 minutes, or until the top is golden brown and the bread sounds hollow when tapped on the bottom.\\n\\n10. **Cool:**\\n    - Remove the bread from the oven and let it cool in the pan for a few minutes before transferring it to a wire rack to cool completely.\\n\\n### Enjoy!\\nOnce cooled, slice the bread and enjoy it with butter, jam, or your favorite spread. Homemade bread is best enjoyed fresh but can be stored in an airtight container for a few days or frozen for longer storage.\",\n",
      "        \"generation_info\": {\n",
      "          \"finish_reason\": \"stop\",\n",
      "          \"logprobs\": null\n",
      "        },\n",
      "        \"type\": \"ChatGeneration\",\n",
      "        \"message\": {\n",
      "          \"lc\": 1,\n",
      "          \"type\": \"constructor\",\n",
      "          \"id\": [\n",
      "            \"langchain\",\n",
      "            \"schema\",\n",
      "            \"messages\",\n",
      "            \"AIMessage\"\n",
      "          ],\n",
      "          \"kwargs\": {\n",
      "            \"content\": \"Here's a simple recipe for making basic homemade bread:\\n\\n### Ingredients:\\n- 4 cups all-purpose flour (plus extra for dusting)\\n- 2 teaspoons salt\\n- 2 teaspoons sugar\\n- 2 1/4 teaspoons (1 packet) active dry yeast\\n- 1 1/2 cups warm water (about 110°F or 43°C)\\n- 2 tablespoons olive oil (optional)\\n\\n### Instructions:\\n\\n1. **Activate the Yeast:**\\n   - In a small bowl, combine the warm water, sugar, and yeast. Stir gently and let it sit for about 5-10 minutes until it becomes frothy.\\n\\n2. **Mix Dry Ingredients:**\\n   - In a large mixing bowl, combine the flour and salt. Mix well.\\n\\n3. **Combine Wet and Dry Ingredients:**\\n   - Once the yeast is activated, add it to the flour mixture along with the olive oil (if using). Stir until a dough begins to form.\\n\\n4. **Knead the Dough:**\\n   - Transfer the dough to a floured surface and knead for about 8-10 minutes until it becomes smooth and elastic. You can add a little more flour if the dough is too sticky.\\n\\n5. **First Rise:**\\n   - Place the kneaded dough in a lightly greased bowl, cover it with a clean kitchen towel or plastic wrap, and let it rise in a warm place for about 1-2 hours, or until it has doubled in size.\\n\\n6. **Shape the Dough:**\\n   - Once the dough has risen, punch it down to release the air. Transfer it to a floured surface and shape it into a loaf or divide it into smaller portions for rolls.\\n\\n7. **Second Rise:**\\n   - Place the shaped dough into a greased loaf pan or on a baking sheet. Cover it again and let it rise for another 30-60 minutes, or until it has doubled in size.\\n\\n8. **Preheat the Oven:**\\n   - Preheat your oven to 375°F (190°C).\\n\\n9. **Bake the Bread:**\\n   - Bake the bread in the preheated oven for about 25-30 minutes, or until the top is golden brown and the bread sounds hollow when tapped on the bottom.\\n\\n10. **Cool:**\\n    - Remove the bread from the oven and let it cool in the pan for a few minutes before transferring it to a wire rack to cool completely.\\n\\n### Enjoy!\\nOnce cooled, slice the bread and enjoy it with butter, jam, or your favorite spread. Homemade bread is best enjoyed fresh but can be stored in an airtight container for a few days or frozen for longer storage.\",\n",
      "            \"response_metadata\": {\n",
      "              \"token_usage\": {\n",
      "                \"completion_tokens\": 548,\n",
      "                \"prompt_tokens\": 13,\n",
      "                \"total_tokens\": 561,\n",
      "                \"completion_tokens_details\": {\n",
      "                  \"accepted_prediction_tokens\": 0,\n",
      "                  \"audio_tokens\": 0,\n",
      "                  \"reasoning_tokens\": 0,\n",
      "                  \"rejected_prediction_tokens\": 0\n",
      "                },\n",
      "                \"prompt_tokens_details\": {\n",
      "                  \"audio_tokens\": 0,\n",
      "                  \"cached_tokens\": 0\n",
      "                }\n",
      "              },\n",
      "              \"model_name\": \"gpt-4o-mini\",\n",
      "              \"system_fingerprint\": \"fp_560af6e559\",\n",
      "              \"finish_reason\": \"stop\",\n",
      "              \"logprobs\": null\n",
      "            },\n",
      "            \"type\": \"ai\",\n",
      "            \"id\": \"run--6e654c7a-5c35-46e1-9e20-8f67a0a68388-0\",\n",
      "            \"tool_calls\": [],\n",
      "            \"invalid_tool_calls\": []\n",
      "          }\n",
      "        }\n",
      "      }\n",
      "    ]\n",
      "  ],\n",
      "  \"llm_output\": {\n",
      "    \"token_usage\": {\n",
      "      \"completion_tokens\": 548,\n",
      "      \"prompt_tokens\": 13,\n",
      "      \"total_tokens\": 561,\n",
      "      \"completion_tokens_details\": {\n",
      "        \"accepted_prediction_tokens\": 0,\n",
      "        \"audio_tokens\": 0,\n",
      "        \"reasoning_tokens\": 0,\n",
      "        \"rejected_prediction_tokens\": 0\n",
      "      },\n",
      "      \"prompt_tokens_details\": {\n",
      "        \"audio_tokens\": 0,\n",
      "        \"cached_tokens\": 0\n",
      "      }\n",
      "    },\n",
      "    \"model_name\": \"gpt-4o-mini\",\n",
      "    \"system_fingerprint\": \"fp_560af6e559\"\n",
      "  },\n",
      "  \"run\": null,\n",
      "  \"type\": \"LLMResult\"\n",
      "}\n",
      "Tokens Used: 1083\n",
      "\tPrompt Tokens: 27\n",
      "\t\tPrompt Tokens Cached: 0\n",
      "\tCompletion Tokens: 1056\n",
      "\t\tReasoning Tokens: 0\n",
      "Successful Requests: 2\n",
      "Total Cost (USD): $0.00063765\n"
     ]
    }
   ],
   "source": [
    "from langchain.chat_models import ChatOpenAI\n",
    "from langchain.callbacks import get_openai_callback\n",
    "from langchain.globals import set_debug\n",
    "\n",
    "set_debug(True)\n",
    "\n",
    "chat = ChatOpenAI(\n",
    "  model=\"gpt-4o-mini\",\n",
    "  temperature=0.1,\n",
    ")\n",
    "\n",
    "with get_openai_callback() as usage:\n",
    "  a = chat.predict(\"What is the recipe for soju\")\n",
    "  b = chat.predict(\"What is the recipe for bread\")\n",
    "\n",
    "  # will be include usage that avobe on this line\n",
    "  print(usage)\n",
    "  print(usage.total_cost) # 전체 비용\n",
    "  print(usage.total_tokens) # 토큰 총합\n",
    "  print(usage.prompt_tokens) # 프롬프트에 사용된\n",
    "  print(usage.completion_tokens) # 모델이 쓴 토큰"
   ]
  },
  {
   "cell_type": "code",
   "execution_count": null,
   "id": "e7563ea0",
   "metadata": {},
   "outputs": [
    {
     "ename": "ValueError",
     "evalue": "Loading openai-chat LLM not supported",
     "output_type": "error",
     "traceback": [
      "\u001b[31m---------------------------------------------------------------------------\u001b[39m",
      "\u001b[31mValueError\u001b[39m                                Traceback (most recent call last)",
      "\u001b[36mCell\u001b[39m\u001b[36m \u001b[39m\u001b[32mIn[16]\u001b[39m\u001b[32m, line 13\u001b[39m\n\u001b[32m      3\u001b[39m \u001b[38;5;28;01mfrom\u001b[39;00m\u001b[38;5;250m \u001b[39m\u001b[34;01mlangchain\u001b[39;00m\u001b[34;01m.\u001b[39;00m\u001b[34;01mllms\u001b[39;00m\u001b[34;01m.\u001b[39;00m\u001b[34;01mloading\u001b[39;00m\u001b[38;5;250m \u001b[39m\u001b[38;5;28;01mimport\u001b[39;00m load_llm\n\u001b[32m      5\u001b[39m \u001b[38;5;66;03m# chat = OpenAI(\u001b[39;00m\n\u001b[32m      6\u001b[39m \u001b[38;5;66;03m#   temperature=0.1,\u001b[39;00m\n\u001b[32m      7\u001b[39m \u001b[38;5;66;03m#   max_tokens=450,\u001b[39;00m\n\u001b[32m   (...)\u001b[39m\u001b[32m     10\u001b[39m \n\u001b[32m     11\u001b[39m \u001b[38;5;66;03m# chat.save(\"model.json\")\u001b[39;00m\n\u001b[32m---> \u001b[39m\u001b[32m13\u001b[39m chat = \u001b[43mload_llm\u001b[49m\u001b[43m(\u001b[49m\u001b[33;43m\"\u001b[39;49m\u001b[33;43mmodel.json\u001b[39;49m\u001b[33;43m\"\u001b[39;49m\u001b[43m)\u001b[49m\n\u001b[32m     15\u001b[39m chat\n",
      "\u001b[36mFile \u001b[39m\u001b[32m~/Documents/_itsjayspace/git_clones/Langchain-7-day-challenge/.venv/lib/python3.13/site-packages/langchain_community/llms/loading.py:55\u001b[39m, in \u001b[36mload_llm\u001b[39m\u001b[34m(file, **kwargs)\u001b[39m\n\u001b[32m     53\u001b[39m     \u001b[38;5;28;01mraise\u001b[39;00m \u001b[38;5;167;01mValueError\u001b[39;00m(\u001b[33m\"\u001b[39m\u001b[33mFile type must be json or yaml\u001b[39m\u001b[33m\"\u001b[39m)\n\u001b[32m     54\u001b[39m \u001b[38;5;66;03m# Load the LLM from the config now.\u001b[39;00m\n\u001b[32m---> \u001b[39m\u001b[32m55\u001b[39m \u001b[38;5;28;01mreturn\u001b[39;00m \u001b[43mload_llm_from_config\u001b[49m\u001b[43m(\u001b[49m\u001b[43mconfig\u001b[49m\u001b[43m,\u001b[49m\u001b[43m \u001b[49m\u001b[43m*\u001b[49m\u001b[43m*\u001b[49m\u001b[43mkwargs\u001b[49m\u001b[43m)\u001b[49m\n",
      "\u001b[36mFile \u001b[39m\u001b[32m~/Documents/_itsjayspace/git_clones/Langchain-7-day-challenge/.venv/lib/python3.13/site-packages/langchain_community/llms/loading.py:25\u001b[39m, in \u001b[36mload_llm_from_config\u001b[39m\u001b[34m(config, **kwargs)\u001b[39m\n\u001b[32m     22\u001b[39m type_to_cls_dict = get_type_to_cls_dict()\n\u001b[32m     24\u001b[39m \u001b[38;5;28;01mif\u001b[39;00m config_type \u001b[38;5;129;01mnot\u001b[39;00m \u001b[38;5;129;01min\u001b[39;00m type_to_cls_dict:\n\u001b[32m---> \u001b[39m\u001b[32m25\u001b[39m     \u001b[38;5;28;01mraise\u001b[39;00m \u001b[38;5;167;01mValueError\u001b[39;00m(\u001b[33mf\u001b[39m\u001b[33m\"\u001b[39m\u001b[33mLoading \u001b[39m\u001b[38;5;132;01m{\u001b[39;00mconfig_type\u001b[38;5;132;01m}\u001b[39;00m\u001b[33m LLM not supported\u001b[39m\u001b[33m\"\u001b[39m)\n\u001b[32m     27\u001b[39m llm_cls = type_to_cls_dict[config_type]()\n\u001b[32m     29\u001b[39m load_kwargs = {}\n",
      "\u001b[31mValueError\u001b[39m: Loading openai-chat LLM not supported"
     ]
    }
   ],
   "source": [
    "# Legacy code\n",
    "\n",
    "from langchain_openai import ChatOpenAI\n",
    "from langchain_openai import OpenAI\n",
    "from langchain.llms.loading import load_llm\n",
    "\n",
    "# chat = OpenAI(\n",
    "#   temperature=0.1,\n",
    "#   max_tokens=450,\n",
    "#   model=\"gpt-4o-mini\"\n",
    "# )\n",
    "\n",
    "# chat.save(\"model.json\")\n",
    "\n",
    "chat = load_llm(\"model.json\")\n",
    "\n",
    "chat"
   ]
  },
  {
   "cell_type": "code",
   "execution_count": null,
   "id": "45bb5c45",
   "metadata": {},
   "outputs": [],
   "source": []
  },
  {
   "cell_type": "code",
   "execution_count": null,
   "id": "33a0d63e",
   "metadata": {},
   "outputs": [],
   "source": []
  }
 ],
 "metadata": {
  "kernelspec": {
   "display_name": "langchain-7-day-challenge (3.13.7)",
   "language": "python",
   "name": "python3"
  },
  "language_info": {
   "codemirror_mode": {
    "name": "ipython",
    "version": 3
   },
   "file_extension": ".py",
   "mimetype": "text/x-python",
   "name": "python",
   "nbconvert_exporter": "python",
   "pygments_lexer": "ipython3",
   "version": "3.13.7"
  }
 },
 "nbformat": 4,
 "nbformat_minor": 5
}
